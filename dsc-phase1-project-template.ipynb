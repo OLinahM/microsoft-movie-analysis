{
 "cells": [
  {
   "cell_type": "markdown",
   "metadata": {},
   "source": [
    "![example](images/director_shot.jpeg)"
   ]
  },
  {
   "cell_type": "markdown",
   "metadata": {},
   "source": [
    "# Project Title\n",
    "\n",
    "**Authors:** Student 1, Student 2, Student 3\n",
    "***"
   ]
  },
  {
   "cell_type": "markdown",
   "metadata": {},
   "source": [
    "## Overview\n",
    "\n",
    "A one-paragraph overview of the project, including the business problem, data, methods, results and recommendations."
   ]
  },
  {
   "cell_type": "markdown",
   "metadata": {},
   "source": [
    "## Business Problem\n",
    "\n",
    "Summary of the business problem you are trying to solve, and the data questions that you plan to answer to solve them.\n",
    "\n",
    "***\n",
    "Questions to consider:\n",
    "* What are the business's pain points related to this project?\n",
    "* How did you pick the data analysis question(s) that you did?\n",
    "* Why are these questions important from a business perspective?\n",
    "***"
   ]
  },
  {
   "cell_type": "markdown",
   "metadata": {},
   "source": [
    "## Data Understanding\n",
    "\n",
    "Describe the data being used for this project.\n",
    "***\n",
    "Questions to consider:\n",
    "* Where did the data come from, and how do they relate to the data analysis questions?\n",
    "* What do the data represent? Who is in the sample and what variables are included?\n",
    "* What is the target variable?\n",
    "* What are the properties of the variables you intend to use?\n",
    "***"
   ]
  },
  {
   "cell_type": "code",
   "execution_count": 95,
   "metadata": {},
   "outputs": [],
   "source": [
    "# Import standard packages\n",
    "import pandas as pd\n",
    "import numpy as np\n",
    "import matplotlib.pyplot as plt\n",
    "import seaborn as sns\n",
    "from pprint import pprint\n",
    "import operator\n",
    "from itertools import groupby\n",
    "%matplotlib inline"
   ]
  },
  {
   "cell_type": "code",
   "execution_count": 100,
   "metadata": {
    "scrolled": true
   },
   "outputs": [
    {
     "name": "stdout",
     "output_type": "stream",
     "text": [
      "[{'tconst': 'tt0063540', 'primary_title': 'Sunghursh', 'original_title': 'Sunghursh', 'start_year': 2013, 'runtime_minutes': 175.0, 'genres': 'Action,Crime,Drama', 'averagerating': 7.0, 'numvotes': 77}, {'tconst': 'tt0066787', 'primary_title': 'One Day Before the Rainy Season', 'original_title': 'Ashad Ka Ek Din', 'start_year': 2019, 'runtime_minutes': 114.0, 'genres': 'Biography,Drama', 'averagerating': 7.2, 'numvotes': 43}, {'tconst': 'tt0069049', 'primary_title': 'The Other Side of the Wind', 'original_title': 'The Other Side of the Wind', 'start_year': 2018, 'runtime_minutes': 122.0, 'genres': 'Drama', 'averagerating': 6.9, 'numvotes': 4517}, {'tconst': 'tt0069204', 'primary_title': 'Sabse Bada Sukh', 'original_title': 'Sabse Bada Sukh', 'start_year': 2018, 'runtime_minutes': nan, 'genres': 'Comedy,Drama', 'averagerating': 6.1, 'numvotes': 13}, {'tconst': 'tt0100275', 'primary_title': 'The Wandering Soap Opera', 'original_title': 'La Telenovela Errante', 'start_year': 2017, 'runtime_minutes': 80.0, 'genres': 'Comedy,Drama,Fantasy', 'averagerating': 6.5, 'numvotes': 119}]\n"
     ]
    },
    {
     "data": {
      "text/html": [
       "<div>\n",
       "<style scoped>\n",
       "    .dataframe tbody tr th:only-of-type {\n",
       "        vertical-align: middle;\n",
       "    }\n",
       "\n",
       "    .dataframe tbody tr th {\n",
       "        vertical-align: top;\n",
       "    }\n",
       "\n",
       "    .dataframe thead th {\n",
       "        text-align: right;\n",
       "    }\n",
       "</style>\n",
       "<table border=\"1\" class=\"dataframe\">\n",
       "  <thead>\n",
       "    <tr style=\"text-align: right;\">\n",
       "      <th></th>\n",
       "      <th>Year</th>\n",
       "      <th>Genre</th>\n",
       "      <th>Votes</th>\n",
       "      <th>AverageVotes</th>\n",
       "      <th>AverageRating</th>\n",
       "    </tr>\n",
       "  </thead>\n",
       "  <tbody>\n",
       "    <tr>\n",
       "      <th>0</th>\n",
       "      <td>2019</td>\n",
       "      <td>Action,Adventure,Sci-Fi</td>\n",
       "      <td>737360</td>\n",
       "      <td>368680.0</td>\n",
       "      <td>7.9</td>\n",
       "    </tr>\n",
       "    <tr>\n",
       "      <th>1</th>\n",
       "      <td>2018</td>\n",
       "      <td>Action,Adventure,Sci-Fi</td>\n",
       "      <td>670926</td>\n",
       "      <td>670926.0</td>\n",
       "      <td>8.5</td>\n",
       "    </tr>\n",
       "    <tr>\n",
       "      <th>2</th>\n",
       "      <td>2017</td>\n",
       "      <td>Action,Drama,Sci-Fi</td>\n",
       "      <td>560270</td>\n",
       "      <td>560270.0</td>\n",
       "      <td>8.1</td>\n",
       "    </tr>\n",
       "    <tr>\n",
       "      <th>3</th>\n",
       "      <td>2016</td>\n",
       "      <td>Action,Adventure,Comedy</td>\n",
       "      <td>820847</td>\n",
       "      <td>820847.0</td>\n",
       "      <td>8.0</td>\n",
       "    </tr>\n",
       "    <tr>\n",
       "      <th>4</th>\n",
       "      <td>2015</td>\n",
       "      <td>Action,Adventure,Fantasy</td>\n",
       "      <td>784780</td>\n",
       "      <td>784780.0</td>\n",
       "      <td>8.0</td>\n",
       "    </tr>\n",
       "  </tbody>\n",
       "</table>\n",
       "</div>"
      ],
      "text/plain": [
       "   Year                     Genre   Votes  AverageVotes  AverageRating\n",
       "0  2019   Action,Adventure,Sci-Fi  737360      368680.0            7.9\n",
       "1  2018   Action,Adventure,Sci-Fi  670926      670926.0            8.5\n",
       "2  2017       Action,Drama,Sci-Fi  560270      560270.0            8.1\n",
       "3  2016   Action,Adventure,Comedy  820847      820847.0            8.0\n",
       "4  2015  Action,Adventure,Fantasy  784780      784780.0            8.0"
      ]
     },
     "execution_count": 100,
     "metadata": {},
     "output_type": "execute_result"
    }
   ],
   "source": [
    "\n",
    "# FILE_PATH = (Path(__file__).with_name(\"title.basics.csv\")).absolute()\n",
    "\n",
    "def load_datasets():\n",
    "    \"\"\"\n",
    "    Load various data sets\n",
    "\n",
    "    args: None\n",
    "    return (dataframe): title_basics, title_ratings\n",
    "    \"\"\"\n",
    "\n",
    "    title_basics = pd.read_csv(\"title.basics.csv\")\n",
    "    title_ratings = pd.read_csv(\"title.ratings.csv\")\n",
    "\n",
    "    return title_basics, title_ratings\n",
    "\n",
    "def merge_datasets(dataframe_a, dataframe_b, common_column):\n",
    "    \"\"\"\n",
    "    Merges provided dataframes and returns a common dataframe\n",
    "\n",
    "    args (dataframes, string): dataframe_a, dataframe_b, common_column\n",
    "\n",
    "    returns (dataframe): merged_dataframe\n",
    "    \"\"\"\n",
    "    return pd.merge(dataframe_a, dataframe_b, on=common_column)\n",
    "\n",
    "\n",
    "def remove_duplicates(dataframe, column):\n",
    "    \"\"\"\n",
    "    Remove duplicates based on passed column\n",
    "\n",
    "    args: dataframe, column\n",
    "    \"\"\"\n",
    "    return dataframe.drop_duplicates(subset=column, keep=\"last\")\n",
    "\n",
    "def drop_empty_titles(dataframe):\n",
    "    \"\"\"\n",
    "    Remove empty genres from the dataframe\n",
    "    \n",
    "    args (dataframe): dataframe\n",
    "\n",
    "    returns (dataframe): dataframe\n",
    "    \"\"\"\n",
    "\n",
    "    return dataframe.dropna(subset=[\"genres\"]) # inplace=True\n",
    "\n",
    "def group_data_by_genre_and_start_year(data_list):\n",
    "    \"\"\"\n",
    "    Group data based on genre\n",
    "\n",
    "    args: (list): data_list\n",
    "\n",
    "    return: (list of lists): grouped_data_list\n",
    "    \"\"\"\n",
    "    print(data_list[:5])\n",
    "    data_list = sorted(data_list, key=operator.itemgetter(\"start_year\"), reverse=True)\n",
    "    return [list(group_item[1]) for group_item in groupby(data_list, key=operator.itemgetter(\"start_year\"))]\n",
    "\n",
    "def group_data_by_year(data_list):\n",
    "    \"\"\"\n",
    "    \"\"\"\n",
    "\n",
    "def process_data(grouped_data_list):\n",
    "    \"\"\"\n",
    "    Process data\n",
    "\n",
    "    return (list of dictionaries): processed_data_list\n",
    "\n",
    "    Example Response:\n",
    "    processed_data = [\n",
    "        {\"Year\": \"2012\", \"Genre\":\"War\", \"Votes\": 200000, \"AverageRating\": 7},\n",
    "        {\"Year\": \"2013\", \"Genre\":\"War\", \"Votes\": 200000, \"AverageRating\": 5},\n",
    "        {\"Year\": \"2014\", \"Genre\":\"Action\", \"Votes\": 200100, \"AverageRating\": 7}\n",
    "        ]\n",
    "    \"\"\"\n",
    "    grouped_list = []\n",
    "    \n",
    "    for data_list in grouped_data_list:\n",
    "        processed_data = []\n",
    "\n",
    "        for key, data in groupby(data_list, key=operator.itemgetter(\"genres\")):\n",
    "            grouped_data = list(data)\n",
    "            year = grouped_data[0].get(\"start_year\")\n",
    "            total_votes = sum(data.get(\"numvotes\") for data in grouped_data)\n",
    "            average_votes = total_votes / len(grouped_data)\n",
    "            average_rating = sum(data.get(\"averagerating\") for data in grouped_data) / len(grouped_data)\n",
    "            dic = {\"Year\": year, \"Genre\": key, \"Votes\": total_votes,\"AverageVotes\":average_votes, \"AverageRating\": average_rating}\n",
    "            processed_data.append(dic)\n",
    "        lst = sorted(processed_data, key=operator.itemgetter(\"AverageVotes\", \"AverageRating\"), reverse=True)\n",
    "        grouped_list.append(lst[0])\n",
    "    return grouped_list\n",
    "\n",
    "\n",
    "title_basics, title_ratings = load_datasets()\n",
    "df = merge_datasets(title_basics, title_ratings, \"tconst\")\n",
    "df = remove_duplicates(df, \"original_title\")\n",
    "df = drop_empty_titles(df)\n",
    "data_list = df.to_dict(\"records\")\n",
    "grouped_data = group_data_by_genre_and_start_year(data_list)\n",
    "grouped_data_list = process_data(grouped_data)\n",
    "column_names = [\"Year\", \"Genre\", \"Votes\", \"AverageVotes\", \"AverageRating\"]\n",
    "df = pd.DataFrame(grouped_data_list, columns=column_names)\n",
    "\n",
    "df.to_excel(\"file.xlsx\", index=False)\n",
    "df.head()"
   ]
  },
  {
   "cell_type": "markdown",
   "metadata": {},
   "source": [
    "## Data Preparation\n",
    "\n",
    "Describe and justify the process for preparing the data for analysis.\n",
    "\n",
    "***\n",
    "Questions to consider:\n",
    "* Were there variables you dropped or created?\n",
    "* How did you address missing values or outliers?\n",
    "* Why are these choices appropriate given the data and the business problem?\n",
    "***"
   ]
  },
  {
   "cell_type": "code",
   "execution_count": 6,
   "metadata": {},
   "outputs": [],
   "source": [
    "# Here you run your code to clean the data"
   ]
  },
  {
   "cell_type": "markdown",
   "metadata": {},
   "source": [
    "## Data Modeling\n",
    "Describe and justify the process for analyzing or modeling the data.\n",
    "\n",
    "***\n",
    "Questions to consider:\n",
    "* How did you analyze or model the data?\n",
    "* How did you iterate on your initial approach to make it better?\n",
    "* Why are these choices appropriate given the data and the business problem?\n",
    "***"
   ]
  },
  {
   "cell_type": "code",
   "execution_count": null,
   "metadata": {},
   "outputs": [],
   "source": [
    "# Here you run your code to model the data\n"
   ]
  },
  {
   "cell_type": "markdown",
   "metadata": {},
   "source": [
    "## Evaluation\n",
    "Evaluate how well your work solves the stated business problem.\n",
    "\n",
    "***\n",
    "Questions to consider:\n",
    "* How do you interpret the results?\n",
    "* How well does your model fit your data? How much better is this than your baseline model?\n",
    "* How confident are you that your results would generalize beyond the data you have?\n",
    "* How confident are you that this model would benefit the business if put into use?\n",
    "***"
   ]
  },
  {
   "cell_type": "markdown",
   "metadata": {},
   "source": [
    "## Conclusions\n",
    "Provide your conclusions about the work you've done, including any limitations or next steps.\n",
    "\n",
    "***\n",
    "Questions to consider:\n",
    "* What would you recommend the business do as a result of this work?\n",
    "* What are some reasons why your analysis might not fully solve the business problem?\n",
    "* What else could you do in the future to improve this project?\n",
    "***"
   ]
  }
 ],
 "metadata": {
  "kernelspec": {
   "display_name": "learn-env",
   "language": "python",
   "name": "learn-env"
  },
  "language_info": {
   "codemirror_mode": {
    "name": "ipython",
    "version": 3
   },
   "file_extension": ".py",
   "mimetype": "text/x-python",
   "name": "python",
   "nbconvert_exporter": "python",
   "pygments_lexer": "ipython3",
   "version": "3.8.5"
  }
 },
 "nbformat": 4,
 "nbformat_minor": 4
}
